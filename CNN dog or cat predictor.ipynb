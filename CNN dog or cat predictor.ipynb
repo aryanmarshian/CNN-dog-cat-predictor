{
 "cells": [
  {
   "cell_type": "markdown",
   "metadata": {
    "id": "3DR-eO17geWu"
   },
   "source": [
    "# Convolutional Neural Network"
   ]
  },
  {
   "cell_type": "markdown",
   "metadata": {
    "id": "EMefrVPCg-60"
   },
   "source": [
    "### Importing the libraries"
   ]
  },
  {
   "cell_type": "code",
   "execution_count": 2,
   "metadata": {
    "id": "oAJacZQUB-wh"
   },
   "outputs": [
    {
     "name": "stdout",
     "output_type": "stream",
     "text": [
      "WARNING:tensorflow:From C:\\Users\\aryan\\anaconda3\\Lib\\site-packages\\keras\\src\\losses.py:2976: The name tf.losses.sparse_softmax_cross_entropy is deprecated. Please use tf.compat.v1.losses.sparse_softmax_cross_entropy instead.\n",
      "\n"
     ]
    }
   ],
   "source": [
    "import tensorflow as tf\n",
    "from keras.preprocessing.image import ImageDataGenerator"
   ]
  },
  {
   "cell_type": "markdown",
   "metadata": {
    "id": "oxQxCBWyoGPE"
   },
   "source": [
    "## Part 1 - Data Preprocessing"
   ]
  },
  {
   "cell_type": "markdown",
   "metadata": {
    "id": "MvE-heJNo3GG"
   },
   "source": [
    "### Preprocessing the Training set"
   ]
  },
  {
   "cell_type": "code",
   "execution_count": 3,
   "metadata": {
    "id": "AoTmlvcjCbHK"
   },
   "outputs": [
    {
     "name": "stdout",
     "output_type": "stream",
     "text": [
      "Found 8000 images belonging to 2 classes.\n"
     ]
    }
   ],
   "source": [
    "train_datagen = ImageDataGenerator(rescale = 1./255,\n",
    "                                   shear_range = 0.2,\n",
    "                                   zoom_range = 0.2,\n",
    "                                   horizontal_flip = True)\n",
    "training_set = train_datagen.flow_from_directory('dataset/training_set',\n",
    "                                                 target_size = (64, 64),\n",
    "                                                 batch_size = 32,\n",
    "                                                 class_mode = 'binary')"
   ]
  },
  {
   "cell_type": "markdown",
   "metadata": {
    "id": "mrCMmGw9pHys"
   },
   "source": [
    "### Preprocessing the Test set"
   ]
  },
  {
   "cell_type": "code",
   "execution_count": 4,
   "metadata": {
    "id": "hjdMV8r3ZaUm"
   },
   "outputs": [
    {
     "name": "stdout",
     "output_type": "stream",
     "text": [
      "Found 2000 images belonging to 2 classes.\n"
     ]
    }
   ],
   "source": [
    "test_datagen = ImageDataGenerator(rescale = 1./255)\n",
    "test_set = test_datagen.flow_from_directory('dataset/test_set',\n",
    "                                            target_size = (64, 64),\n",
    "                                            batch_size = 32,\n",
    "                                            class_mode = 'binary')"
   ]
  },
  {
   "cell_type": "markdown",
   "metadata": {
    "id": "af8O4l90gk7B"
   },
   "source": [
    "## Part 2 - Building the CNN"
   ]
  },
  {
   "cell_type": "markdown",
   "metadata": {
    "id": "ces1gXY2lmoX"
   },
   "source": [
    "### Initialising the CNN"
   ]
  },
  {
   "cell_type": "code",
   "execution_count": 5,
   "metadata": {
    "id": "ifLIVK5uagfq"
   },
   "outputs": [
    {
     "name": "stdout",
     "output_type": "stream",
     "text": [
      "WARNING:tensorflow:From C:\\Users\\aryan\\anaconda3\\Lib\\site-packages\\keras\\src\\backend.py:873: The name tf.get_default_graph is deprecated. Please use tf.compat.v1.get_default_graph instead.\n",
      "\n"
     ]
    }
   ],
   "source": [
    "cnn=tf.keras.models.Sequential()"
   ]
  },
  {
   "cell_type": "markdown",
   "metadata": {
    "id": "u5YJj_XMl5LF"
   },
   "source": [
    "### Step 1 - Convolution"
   ]
  },
  {
   "cell_type": "code",
   "execution_count": 10,
   "metadata": {
    "id": "p_LaohREarTo"
   },
   "outputs": [],
   "source": [
    "cnn.add(tf.keras.layers.Conv2D(filters=32, kernel_size=1, activation= 'relu', input_shape=[64,64,3]))"
   ]
  },
  {
   "cell_type": "markdown",
   "metadata": {
    "id": "tf87FpvxmNOJ"
   },
   "source": [
    "### Step 2 - Pooling"
   ]
  },
  {
   "cell_type": "code",
   "execution_count": 12,
   "metadata": {
    "id": "FcT2lQFwcBQE"
   },
   "outputs": [
    {
     "name": "stdout",
     "output_type": "stream",
     "text": [
      "WARNING:tensorflow:From C:\\Users\\aryan\\anaconda3\\Lib\\site-packages\\keras\\src\\layers\\pooling\\max_pooling2d.py:161: The name tf.nn.max_pool is deprecated. Please use tf.nn.max_pool2d instead.\n",
      "\n"
     ]
    }
   ],
   "source": [
    "cnn.add(tf.keras.layers.MaxPool2D(pool_size=2,strides=2))"
   ]
  },
  {
   "cell_type": "markdown",
   "metadata": {
    "id": "xaTOgD8rm4mU"
   },
   "source": [
    "### Adding a second convolutional layer"
   ]
  },
  {
   "cell_type": "code",
   "execution_count": 14,
   "metadata": {
    "id": "VIgShk3gc0_x"
   },
   "outputs": [],
   "source": [
    "cnn.add(tf.keras.layers.Conv2D(filters=32, kernel_size=1, activation='relu'))\n",
    "cnn.add(tf.keras.layers.MaxPool2D(pool_size=2,strides=2))"
   ]
  },
  {
   "cell_type": "markdown",
   "metadata": {
    "id": "tmiEuvTunKfk"
   },
   "source": [
    "### Step 3 - Flattening"
   ]
  },
  {
   "cell_type": "code",
   "execution_count": 15,
   "metadata": {
    "id": "RAqLpXecdCHF"
   },
   "outputs": [],
   "source": [
    "cnn.add(tf.keras.layers.Flatten())"
   ]
  },
  {
   "cell_type": "markdown",
   "metadata": {
    "id": "dAoSECOm203v"
   },
   "source": [
    "### Step 4 - Full Connection"
   ]
  },
  {
   "cell_type": "code",
   "execution_count": 16,
   "metadata": {
    "id": "x3W4aNyUdPVi"
   },
   "outputs": [],
   "source": [
    "cnn.add(tf.keras.layers.Dense(units=128,activation='relu'))"
   ]
  },
  {
   "cell_type": "markdown",
   "metadata": {
    "id": "yTldFvbX28Na"
   },
   "source": [
    "### Step 5 - Output Layer"
   ]
  },
  {
   "cell_type": "code",
   "execution_count": 17,
   "metadata": {
    "id": "ibLr7mMfdn1i"
   },
   "outputs": [],
   "source": [
    "cnn.add(tf.keras.layers.Dense(units=1,activation='sigmoid'))"
   ]
  },
  {
   "cell_type": "markdown",
   "metadata": {
    "id": "D6XkI90snSDl"
   },
   "source": [
    "## Part 3 - Training the CNN"
   ]
  },
  {
   "cell_type": "markdown",
   "metadata": {
    "id": "vfrFQACEnc6i"
   },
   "source": [
    "### Compiling the CNN"
   ]
  },
  {
   "cell_type": "code",
   "execution_count": 20,
   "metadata": {
    "id": "dyizCKpzd-Fx"
   },
   "outputs": [
    {
     "name": "stdout",
     "output_type": "stream",
     "text": [
      "WARNING:tensorflow:From C:\\Users\\aryan\\anaconda3\\Lib\\site-packages\\keras\\src\\optimizers\\__init__.py:309: The name tf.train.Optimizer is deprecated. Please use tf.compat.v1.train.Optimizer instead.\n",
      "\n"
     ]
    }
   ],
   "source": [
    "cnn.compile(optimizer='adam', loss= 'binary_crossentropy',metrics=['accuracy'])"
   ]
  },
  {
   "cell_type": "markdown",
   "metadata": {
    "id": "ehS-v3MIpX2h"
   },
   "source": [
    "### Training the CNN on the Training set and evaluating it on the Test set"
   ]
  },
  {
   "cell_type": "code",
   "execution_count": 21,
   "metadata": {
    "id": "t-LKNyPofZJ3"
   },
   "outputs": [
    {
     "name": "stdout",
     "output_type": "stream",
     "text": [
      "Epoch 1/25\n",
      "WARNING:tensorflow:From C:\\Users\\aryan\\anaconda3\\Lib\\site-packages\\keras\\src\\utils\\tf_utils.py:492: The name tf.ragged.RaggedTensorValue is deprecated. Please use tf.compat.v1.ragged.RaggedTensorValue instead.\n",
      "\n",
      "WARNING:tensorflow:From C:\\Users\\aryan\\anaconda3\\Lib\\site-packages\\keras\\src\\engine\\base_layer_utils.py:384: The name tf.executing_eagerly_outside_functions is deprecated. Please use tf.compat.v1.executing_eagerly_outside_functions instead.\n",
      "\n",
      "250/250 [==============================] - 180s 711ms/step - loss: 0.6616 - accuracy: 0.5910 - val_loss: 0.6086 - val_accuracy: 0.6690\n",
      "Epoch 2/25\n",
      "250/250 [==============================] - 38s 153ms/step - loss: 0.6033 - accuracy: 0.6699 - val_loss: 0.5755 - val_accuracy: 0.7005\n",
      "Epoch 3/25\n",
      "250/250 [==============================] - 35s 139ms/step - loss: 0.5903 - accuracy: 0.6809 - val_loss: 0.5838 - val_accuracy: 0.6845\n",
      "Epoch 4/25\n",
      "250/250 [==============================] - 35s 139ms/step - loss: 0.5697 - accuracy: 0.6964 - val_loss: 0.5608 - val_accuracy: 0.7140\n",
      "Epoch 5/25\n",
      "250/250 [==============================] - 35s 138ms/step - loss: 0.5579 - accuracy: 0.7082 - val_loss: 0.5601 - val_accuracy: 0.7145\n",
      "Epoch 6/25\n",
      "250/250 [==============================] - 35s 139ms/step - loss: 0.5468 - accuracy: 0.7182 - val_loss: 0.5418 - val_accuracy: 0.7270\n",
      "Epoch 7/25\n",
      "250/250 [==============================] - 35s 138ms/step - loss: 0.5357 - accuracy: 0.7244 - val_loss: 0.5385 - val_accuracy: 0.7300\n",
      "Epoch 8/25\n",
      "250/250 [==============================] - 35s 140ms/step - loss: 0.5296 - accuracy: 0.7318 - val_loss: 0.5239 - val_accuracy: 0.7390\n",
      "Epoch 9/25\n",
      "250/250 [==============================] - 36s 145ms/step - loss: 0.5197 - accuracy: 0.7410 - val_loss: 0.5136 - val_accuracy: 0.7515\n",
      "Epoch 10/25\n",
      "250/250 [==============================] - 34s 136ms/step - loss: 0.5127 - accuracy: 0.7441 - val_loss: 0.5268 - val_accuracy: 0.7465\n",
      "Epoch 11/25\n",
      "250/250 [==============================] - 34s 134ms/step - loss: 0.4992 - accuracy: 0.7529 - val_loss: 0.5394 - val_accuracy: 0.7375\n",
      "Epoch 12/25\n",
      "250/250 [==============================] - 33s 131ms/step - loss: 0.4966 - accuracy: 0.7527 - val_loss: 0.5302 - val_accuracy: 0.7490\n",
      "Epoch 13/25\n",
      "250/250 [==============================] - 34s 136ms/step - loss: 0.4921 - accuracy: 0.7625 - val_loss: 0.5126 - val_accuracy: 0.7475\n",
      "Epoch 14/25\n",
      "250/250 [==============================] - 34s 136ms/step - loss: 0.4808 - accuracy: 0.7628 - val_loss: 0.5190 - val_accuracy: 0.7480\n",
      "Epoch 15/25\n",
      "250/250 [==============================] - 34s 135ms/step - loss: 0.4773 - accuracy: 0.7650 - val_loss: 0.5107 - val_accuracy: 0.7615\n",
      "Epoch 16/25\n",
      "250/250 [==============================] - 34s 134ms/step - loss: 0.4657 - accuracy: 0.7788 - val_loss: 0.5197 - val_accuracy: 0.7530\n",
      "Epoch 17/25\n",
      "250/250 [==============================] - 34s 137ms/step - loss: 0.4565 - accuracy: 0.7809 - val_loss: 0.5138 - val_accuracy: 0.7700\n",
      "Epoch 18/25\n",
      "250/250 [==============================] - 35s 139ms/step - loss: 0.4567 - accuracy: 0.7819 - val_loss: 0.5399 - val_accuracy: 0.7535\n",
      "Epoch 19/25\n",
      "250/250 [==============================] - 32s 129ms/step - loss: 0.4425 - accuracy: 0.7886 - val_loss: 0.5287 - val_accuracy: 0.7570\n",
      "Epoch 20/25\n",
      "250/250 [==============================] - 34s 134ms/step - loss: 0.4464 - accuracy: 0.7887 - val_loss: 0.5294 - val_accuracy: 0.7575\n",
      "Epoch 21/25\n",
      "250/250 [==============================] - 51s 204ms/step - loss: 0.4323 - accuracy: 0.7944 - val_loss: 0.5321 - val_accuracy: 0.7575\n",
      "Epoch 22/25\n",
      "250/250 [==============================] - 37s 149ms/step - loss: 0.4211 - accuracy: 0.8098 - val_loss: 0.5415 - val_accuracy: 0.7575\n",
      "Epoch 23/25\n",
      "250/250 [==============================] - 34s 136ms/step - loss: 0.4177 - accuracy: 0.8016 - val_loss: 0.5345 - val_accuracy: 0.7615\n",
      "Epoch 24/25\n",
      "250/250 [==============================] - 37s 147ms/step - loss: 0.4077 - accuracy: 0.8138 - val_loss: 0.5451 - val_accuracy: 0.7465\n",
      "Epoch 25/25\n",
      "250/250 [==============================] - 38s 150ms/step - loss: 0.3985 - accuracy: 0.8146 - val_loss: 0.5256 - val_accuracy: 0.7755\n"
     ]
    },
    {
     "data": {
      "text/plain": [
       "<keras.src.callbacks.History at 0x27db2644d90>"
      ]
     },
     "execution_count": 21,
     "metadata": {},
     "output_type": "execute_result"
    }
   ],
   "source": [
    "cnn.fit(x=training_set,validation_data=test_set, epochs=25)"
   ]
  },
  {
   "cell_type": "markdown",
   "metadata": {
    "id": "U3PZasO0006Z"
   },
   "source": [
    "## Part 4 - Making a single prediction"
   ]
  },
  {
   "cell_type": "code",
   "execution_count": 31,
   "metadata": {
    "id": "hQSjGNGqf7B8"
   },
   "outputs": [
    {
     "name": "stdout",
     "output_type": "stream",
     "text": [
      "1/1 [==============================] - 0s 21ms/step\n"
     ]
    }
   ],
   "source": [
    "import numpy as np\n",
    "from keras.preprocessing import image\n",
    "test_image = image.load_img('dataset/final/dog.jpg',target_size=(64,64))\n",
    "test_image = image.img_to_array(test_image)\n",
    "test_image = np.expand_dims(test_image, axis=0)\n",
    "result = cnn.predict(test_image)\n",
    "training_set.class_indices\n",
    "if result[0][0]== 1:\n",
    "  prediction = 'dog'\n",
    "else:\n",
    "  prediction='cat'\n"
   ]
  },
  {
   "cell_type": "code",
   "execution_count": 32,
   "metadata": {
    "id": "8GGbsVMli3YE"
   },
   "outputs": [
    {
     "name": "stdout",
     "output_type": "stream",
     "text": [
      "dog\n"
     ]
    }
   ],
   "source": [
    "print(prediction)"
   ]
  },
  {
   "cell_type": "code",
   "execution_count": null,
   "metadata": {},
   "outputs": [],
   "source": []
  }
 ],
 "metadata": {
  "colab": {
   "provenance": []
  },
  "kernelspec": {
   "display_name": "Python 3 (ipykernel)",
   "language": "python",
   "name": "python3"
  },
  "language_info": {
   "codemirror_mode": {
    "name": "ipython",
    "version": 3
   },
   "file_extension": ".py",
   "mimetype": "text/x-python",
   "name": "python",
   "nbconvert_exporter": "python",
   "pygments_lexer": "ipython3",
   "version": "3.11.5"
  }
 },
 "nbformat": 4,
 "nbformat_minor": 1
}
